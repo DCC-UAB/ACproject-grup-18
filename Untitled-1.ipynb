{
 "cells": [
  {
   "cell_type": "code",
   "execution_count": 1,
   "metadata": {},
   "outputs": [],
   "source": [
    "import matplotlib.pyplot as plt\n",
    "import pandas as pd\n",
    "import numpy as np\n",
    "import seaborn as sns\n",
    "from collections import defaultdict\n",
    "#Surprise\n",
    "from surprise import SVD, KNNBasic, Dataset, Reader\n",
    "from surprise.model_selection import train_test_split, cross_validate\n",
    "from surprise.model_selection import KFold\n",
    "from surprise import accuracy\n",
    "# Importar librerías necesarias\n",
    "import matplotlib.pyplot as plt\n",
    "import numpy as np\n",
    "import pandas as pd\n",
    "import seaborn as sns\n",
    "import time\n",
    "import copy\n",
    "# Librerías de Scikit-learn\n",
    "from sklearn import datasets\n",
    "from sklearn.metrics import accuracy_score, confusion_matrix, recall_score, precision_score, roc_curve, roc_auc_score\n",
    "from sklearn.neighbors import KNeighborsClassifier\n"
   ]
  },
  {
   "cell_type": "code",
   "execution_count": 2,
   "metadata": {},
   "outputs": [
    {
     "name": "stdout",
     "output_type": "stream",
     "text": [
      "7824482\n"
     ]
    }
   ],
   "source": [
    "df = pd.read_csv(\"C:/Users/Joel/Documents/UAB/Tercer/Primer_Semestre/AC - Aprenentatge Computacional/Projecte/ratings_Electronics.csv\",\n",
    "                             names=['userId', 'productId','rating','timestamp'])\n",
    "print(df.shape[0])"
   ]
  },
  {
   "cell_type": "code",
   "execution_count": 7,
   "metadata": {},
   "outputs": [
    {
     "name": "stdout",
     "output_type": "stream",
     "text": [
      "Usuarios con más de 50 votos: rating    1540\n",
      "dtype: int64\n",
      "Items con más de 5 votos: rating    57791\n",
      "dtype: int64\n"
     ]
    }
   ],
   "source": [
    "user_votes = pd.DataFrame(df.groupby('userId')['rating'].count())\n",
    "users_filter = user_votes[user_votes['rating'] >= 50]\n",
    "\n",
    "print(\"Usuarios con más de 50 votos:\", users_filter.count())\n",
    "\n",
    "items_votes = pd.DataFrame(df.groupby('productId')['rating'].count())\n",
    "items_filter = items_votes[items_votes['rating'] >= 20]\n",
    "\n",
    "print(\"Items con más de 5 votos:\", items_filter.count())"
   ]
  },
  {
   "cell_type": "code",
   "execution_count": 8,
   "metadata": {},
   "outputs": [
    {
     "name": "stderr",
     "output_type": "stream",
     "text": [
      "C:\\Users\\Joel\\AppData\\Local\\Temp\\ipykernel_17064\\4077669519.py:3: UserWarning: Boolean Series key will be reindexed to match DataFrame index.\n",
      "  filtered_dataset = filtered_dataset[\n"
     ]
    },
    {
     "name": "stdout",
     "output_type": "stream",
     "text": [
      "Total number of ratings : 5\n",
      "Total number of users   : 4010422\n",
      "Total number of products  : 157783\n"
     ]
    }
   ],
   "source": [
    "user_counts = df['userId'].value_counts()\n",
    "product_counts = df['productId'].value_counts()\n",
    "filtered_dataset = df[\n",
    "    (df['userId'].isin(user_counts[user_counts >= 50].index))\n",
    "]\n",
    "\n",
    "filtered_dataset = filtered_dataset[(df['productId'].isin(product_counts[product_counts >= 5].index))]\n",
    "filtered_dataset.shape\n",
    "\n",
    "print(\"Total number of ratings :\",filtered_dataset.rating.nunique())\n",
    "print(\"Total number of users   :\", filtered_dataset.userId.nunique())\n",
    "print(\"Total number of products  :\", filtered_dataset.productId.nunique())"
   ]
  },
  {
   "cell_type": "code",
   "execution_count": null,
   "metadata": {},
   "outputs": [],
   "source": [
    "# Estilo general de gráficos\n",
    "sns.set(style=\"whitegrid\")\n",
    "\n",
    "# 1. Distribución del número de ratings por usuario\n",
    "plt.figure(figsize=(10, 5))\n",
    "sns.histplot(filtered_dataset['userId'].value_counts(), bins=30, kde=False, color='skyblue')\n",
    "plt.title('Distribución del número de ratings por usuario')\n",
    "plt.xlabel('Número de ratings')\n",
    "plt.ylabel('Cantidad de usuarios')\n",
    "plt.show()\n",
    "\n",
    "# 2. Distribución del número de ratings por producto\n",
    "plt.figure(figsize=(10, 5))\n",
    "sns.histplot(filtered_dataset['productId'].value_counts(), bins=30, kde=False, color='orange')\n",
    "plt.title('Distribución del número de ratings por producto')\n",
    "plt.xlabel('Número de ratings')\n",
    "plt.ylabel('Cantidad de productos')\n",
    "plt.show()\n",
    "\n",
    "# 3. Calificaciones promedio por producto\n",
    "avg_ratings = filtered_dataset.groupby('productId')['rating'].mean()\n",
    "plt.figure(figsize=(10, 5))\n",
    "sns.histplot(avg_ratings, bins=30, kde=True, color='green')\n",
    "plt.title('Distribución de calificaciones promedio por producto')\n",
    "plt.xlabel('Calificación promedio')\n",
    "plt.ylabel('Cantidad de productos')\n",
    "plt.show()\n"
   ]
  },
  {
   "cell_type": "code",
   "execution_count": null,
   "metadata": {},
   "outputs": [],
   "source": []
  },
  {
   "cell_type": "code",
   "execution_count": null,
   "metadata": {},
   "outputs": [],
   "source": []
  },
  {
   "cell_type": "code",
   "execution_count": null,
   "metadata": {},
   "outputs": [],
   "source": []
  },
  {
   "cell_type": "code",
   "execution_count": null,
   "metadata": {},
   "outputs": [],
   "source": []
  },
  {
   "cell_type": "code",
   "execution_count": null,
   "metadata": {},
   "outputs": [],
   "source": []
  }
 ],
 "metadata": {
  "kernelspec": {
   "display_name": "Python 3",
   "language": "python",
   "name": "python3"
  },
  "language_info": {
   "codemirror_mode": {
    "name": "ipython",
    "version": 3
   },
   "file_extension": ".py",
   "mimetype": "text/x-python",
   "name": "python",
   "nbconvert_exporter": "python",
   "pygments_lexer": "ipython3",
   "version": "3.12.3"
  }
 },
 "nbformat": 4,
 "nbformat_minor": 2
}

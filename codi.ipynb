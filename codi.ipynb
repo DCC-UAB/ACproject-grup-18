{
 "cells": [
  {
   "cell_type": "code",
   "execution_count": null,
   "metadata": {},
   "outputs": [],
   "source": [
    "import matplotlib.pyplot as plt\n",
    "import numpy as np\n",
    "import pandas as pd\n",
    "import seaborn as sns\n",
    "\n",
    "from sklearn import datasets\n",
    "from sklearn.model_selection import train_test_split , KFold\n",
    "from sklearn.preprocessing import Normalizer, StandardScaler\n",
    "from sklearn.metrics import accuracy_score, confusion_matrix, recall_score, precision_score, roc_curve, roc_auc_score\n",
    "from sklearn.neighbors import KNeighborsClassifier\n",
    "\n",
    "\n",
    "\n",
    "from surprise.model_selection import train_test_split, cross_validate\n",
    "from surprise import SVD, Reader, Dataset\n",
    "\n",
    "\n",
    "from load_csv import Dataset as Dataset_Classe #Per diferenciar de la funció Dataset de surprise\n",
    "\n",
    "\n",
    "import numpy as np\n",
    "from surprise import SVD, KNNBasic, Dataset, Reader\n",
    "from surprise.model_selection import KFold\n",
    "from surprise import accuracy"
   ]
  },
  {
   "cell_type": "code",
   "execution_count": 77,
   "metadata": {},
   "outputs": [],
   "source": [
    "\"\"\"dataframe = Dataset_Classe()\n",
    "dataframe.load_dataset()\n",
    "dataframe.clear_dataset()\n",
    "df = dataframe.get_dataset()\"\"\"\n",
    "\n",
    "df = pd.read_csv(\"C:/Users/Joel/Documents/UAB/Tercer/Primer_Semestre/AC - Aprenentatge Computacional/Projecte/ratings_Electronics.csv\",\n",
    "                             names=['userId', 'productId','rating','timestamp'])"
   ]
  },
  {
   "cell_type": "code",
   "execution_count": 78,
   "metadata": {},
   "outputs": [
    {
     "name": "stdout",
     "output_type": "stream",
     "text": [
      "           userId   productId  rating   timestamp\n",
      "0   AKM1MP6P0OYPR  0132793040     5.0  1365811200\n",
      "1  A2CX7LUOHB2NDG  0321732944     5.0  1341100800\n",
      "2  A2NWSAGRHCP8N5  0439886341     1.0  1367193600\n",
      "3  A2WNBOD3WNDNKT  0439886341     3.0  1374451200\n",
      "4  A1GI0U4ZRJA8WN  0439886341     1.0  1334707200\n"
     ]
    }
   ],
   "source": [
    "df_save = df\n",
    "df = df_save\n",
    "print(df.head())"
   ]
  },
  {
   "cell_type": "code",
   "execution_count": 79,
   "metadata": {},
   "outputs": [
    {
     "name": "stdout",
     "output_type": "stream",
     "text": [
      "Total Reviews: 7824482\n",
      "Total Columns: 4\n"
     ]
    }
   ],
   "source": [
    "print(\"Total Reviews:\",df.shape[0])\n",
    "print(\"Total Columns:\",df.shape[1])"
   ]
  },
  {
   "cell_type": "code",
   "execution_count": 81,
   "metadata": {},
   "outputs": [
    {
     "name": "stdout",
     "output_type": "stream",
     "text": [
      "\n",
      "Estadístiques dels ratings:\n",
      "Minimum rating: 1.0\n",
      "Maximum rating: 5.0\n"
     ]
    }
   ],
   "source": [
    "# Estadístiques dels ratings\n",
    "print(\"\\nEstadístiques dels ratings:\")\n",
    "print(\"Minimum rating:\", df[\"rating\"].min())\n",
    "print(\"Maximum rating:\", df[\"rating\"].max())"
   ]
  },
  {
   "cell_type": "code",
   "execution_count": 82,
   "metadata": {},
   "outputs": [
    {
     "name": "stdout",
     "output_type": "stream",
     "text": [
      "Total number of ratings : 5\n",
      "Total number of users   : 4201696\n",
      "Total number of products  : 476002\n"
     ]
    }
   ],
   "source": [
    "print(\"Total number of ratings :\",df.rating.nunique())\n",
    "print(\"Total number of users   :\", df.userId.nunique())\n",
    "print(\"Total number of products  :\", df.productId.nunique())"
   ]
  },
  {
   "cell_type": "code",
   "execution_count": 83,
   "metadata": {},
   "outputs": [
    {
     "name": "stdout",
     "output_type": "stream",
     "text": [
      "<class 'pandas.core.frame.DataFrame'>\n",
      "RangeIndex: 7824482 entries, 0 to 7824481\n",
      "Data columns (total 4 columns):\n",
      " #   Column     Dtype  \n",
      "---  ------     -----  \n",
      " 0   userId     object \n",
      " 1   productId  object \n",
      " 2   rating     float64\n",
      " 3   timestamp  int64  \n",
      "dtypes: float64(1), int64(1), object(2)\n",
      "memory usage: 238.8+ MB\n"
     ]
    }
   ],
   "source": [
    "df.info()"
   ]
  },
  {
   "cell_type": "code",
   "execution_count": 84,
   "metadata": {},
   "outputs": [
    {
     "data": {
      "text/plain": [
       "userId       0\n",
       "productId    0\n",
       "rating       0\n",
       "timestamp    0\n",
       "dtype: int64"
      ]
     },
     "execution_count": 84,
     "metadata": {},
     "output_type": "execute_result"
    }
   ],
   "source": [
    "# Check missing value\n",
    "df.isnull().sum()"
   ]
  },
  {
   "cell_type": "code",
   "execution_count": 85,
   "metadata": {},
   "outputs": [
    {
     "data": {
      "text/plain": [
       "userId       False\n",
       "productId    False\n",
       "rating       False\n",
       "timestamp    False\n",
       "dtype: bool"
      ]
     },
     "execution_count": 85,
     "metadata": {},
     "output_type": "execute_result"
    }
   ],
   "source": [
    "# Check Duplicate data\n",
    "df[df.duplicated()].any()"
   ]
  },
  {
   "cell_type": "code",
   "execution_count": 86,
   "metadata": {},
   "outputs": [
    {
     "data": {
      "text/plain": [
       "count    7.824482e+06\n",
       "mean     4.012337e+00\n",
       "std      1.380910e+00\n",
       "min      1.000000e+00\n",
       "25%      3.000000e+00\n",
       "50%      5.000000e+00\n",
       "75%      5.000000e+00\n",
       "max      5.000000e+00\n",
       "Name: rating, dtype: float64"
      ]
     },
     "execution_count": 86,
     "metadata": {},
     "output_type": "execute_result"
    }
   ],
   "source": [
    "# rating describe summary \n",
    "df.describe()['rating']"
   ]
  },
  {
   "cell_type": "code",
   "execution_count": 87,
   "metadata": {},
   "outputs": [
    {
     "name": "stdout",
     "output_type": "stream",
     "text": [
      "Unique value of Rating: [5. 1. 3. 2. 4.]\n"
     ]
    }
   ],
   "source": [
    "print(\"Unique value of Rating:\",df.rating.unique())"
   ]
  },
  {
   "cell_type": "code",
   "execution_count": 88,
   "metadata": {},
   "outputs": [
    {
     "name": "stdout",
     "output_type": "stream",
     "text": [
      "Minimum rating is: 1\n",
      "Maximum rating is: 5\n"
     ]
    }
   ],
   "source": [
    "# Find the minimum and maximum ratings\n",
    "print('Minimum rating is: %d' %(df.rating.min()))\n",
    "print('Maximum rating is: %d' %(df.rating.max()))"
   ]
  },
  {
   "cell_type": "code",
   "execution_count": 89,
   "metadata": {},
   "outputs": [
    {
     "data": {
      "text/html": [
       "<div>\n",
       "<style scoped>\n",
       "    .dataframe tbody tr th:only-of-type {\n",
       "        vertical-align: middle;\n",
       "    }\n",
       "\n",
       "    .dataframe tbody tr th {\n",
       "        vertical-align: top;\n",
       "    }\n",
       "\n",
       "    .dataframe thead th {\n",
       "        text-align: right;\n",
       "    }\n",
       "</style>\n",
       "<table border=\"1\" class=\"dataframe\">\n",
       "  <thead>\n",
       "    <tr style=\"text-align: right;\">\n",
       "      <th></th>\n",
       "      <th>rating</th>\n",
       "      <th>ratings_count</th>\n",
       "      <th>ratings_average</th>\n",
       "    </tr>\n",
       "    <tr>\n",
       "      <th>productId</th>\n",
       "      <th></th>\n",
       "      <th></th>\n",
       "      <th></th>\n",
       "    </tr>\n",
       "  </thead>\n",
       "  <tbody>\n",
       "    <tr>\n",
       "      <th>0132793040</th>\n",
       "      <td>5.000000</td>\n",
       "      <td>1</td>\n",
       "      <td>5.000000</td>\n",
       "    </tr>\n",
       "    <tr>\n",
       "      <th>0321732944</th>\n",
       "      <td>5.000000</td>\n",
       "      <td>1</td>\n",
       "      <td>5.000000</td>\n",
       "    </tr>\n",
       "    <tr>\n",
       "      <th>0439886341</th>\n",
       "      <td>1.666667</td>\n",
       "      <td>3</td>\n",
       "      <td>1.666667</td>\n",
       "    </tr>\n",
       "    <tr>\n",
       "      <th>0511189877</th>\n",
       "      <td>4.500000</td>\n",
       "      <td>6</td>\n",
       "      <td>4.500000</td>\n",
       "    </tr>\n",
       "    <tr>\n",
       "      <th>0528881469</th>\n",
       "      <td>2.851852</td>\n",
       "      <td>27</td>\n",
       "      <td>2.851852</td>\n",
       "    </tr>\n",
       "    <tr>\n",
       "      <th>0558835155</th>\n",
       "      <td>3.000000</td>\n",
       "      <td>1</td>\n",
       "      <td>3.000000</td>\n",
       "    </tr>\n",
       "    <tr>\n",
       "      <th>059400232X</th>\n",
       "      <td>5.000000</td>\n",
       "      <td>3</td>\n",
       "      <td>5.000000</td>\n",
       "    </tr>\n",
       "    <tr>\n",
       "      <th>0594012015</th>\n",
       "      <td>2.000000</td>\n",
       "      <td>8</td>\n",
       "      <td>2.000000</td>\n",
       "    </tr>\n",
       "    <tr>\n",
       "      <th>0594017343</th>\n",
       "      <td>1.000000</td>\n",
       "      <td>1</td>\n",
       "      <td>1.000000</td>\n",
       "    </tr>\n",
       "    <tr>\n",
       "      <th>0594017580</th>\n",
       "      <td>3.000000</td>\n",
       "      <td>1</td>\n",
       "      <td>3.000000</td>\n",
       "    </tr>\n",
       "  </tbody>\n",
       "</table>\n",
       "</div>"
      ],
      "text/plain": [
       "              rating  ratings_count  ratings_average\n",
       "productId                                           \n",
       "0132793040  5.000000              1         5.000000\n",
       "0321732944  5.000000              1         5.000000\n",
       "0439886341  1.666667              3         1.666667\n",
       "0511189877  4.500000              6         4.500000\n",
       "0528881469  2.851852             27         2.851852\n",
       "0558835155  3.000000              1         3.000000\n",
       "059400232X  5.000000              3         5.000000\n",
       "0594012015  2.000000              8         2.000000\n",
       "0594017343  1.000000              1         1.000000\n",
       "0594017580  3.000000              1         3.000000"
      ]
     },
     "execution_count": 89,
     "metadata": {},
     "output_type": "execute_result"
    }
   ],
   "source": [
    "# Average rating of products\n",
    "ratings = pd.DataFrame(df.groupby('productId')['rating'].mean())\n",
    "ratings['ratings_count'] = pd.DataFrame(df.groupby('productId')['rating'].count())\n",
    "ratings['ratings_average'] = pd.DataFrame(df.groupby('productId')['rating'].mean())\n",
    "ratings.head(10)"
   ]
  },
  {
   "cell_type": "code",
   "execution_count": 90,
   "metadata": {},
   "outputs": [
    {
     "data": {
      "text/plain": [
       "<Axes: >"
      ]
     },
     "execution_count": 90,
     "metadata": {},
     "output_type": "execute_result"
    },
    {
     "data": {
      "image/png": "[encoded data removed]",
      "text/plain": [
       "<Figure size 1000x400 with 1 Axes>"
      ]
     },
     "metadata": {},
     "output_type": "display_data"
    }
   ],
   "source": [
    "plt.figure(figsize=(10,4))\n",
    "ratings['rating'].hist(bins=70)"
   ]
  },
  {
   "cell_type": "code",
   "execution_count": 34,
   "metadata": {},
   "outputs": [
    {
     "data": {
      "text/plain": [
       "<seaborn.axisgrid.JointGrid at 0x2d32b918f50>"
      ]
     },
     "execution_count": 34,
     "metadata": {},
     "output_type": "execute_result"
    },
    {
     "data": {
      "image/png": "[encoded data removed]",
      "text/plain": [
       "<Figure size 600x600 with 3 Axes>"
      ]
     },
     "metadata": {},
     "output_type": "display_data"
    }
   ],
   "source": [
    "sns.jointplot(x='rating',y='ratings_count',data=ratings,alpha=0.5)"
   ]
  },
  {
   "cell_type": "code",
   "execution_count": 91,
   "metadata": {},
   "outputs": [
    {
     "data": {
      "text/plain": [
       "<Axes: xlabel='productId'>"
      ]
     },
     "execution_count": 91,
     "metadata": {},
     "output_type": "execute_result"
    },
    {
     "data": {
      "image/png": "[encoded data removed]",
      "text/plain": [
       "<Figure size 1200x400 with 1 Axes>"
      ]
     },
     "metadata": {},
     "output_type": "display_data"
    }
   ],
   "source": [
    "# Most top 30 products\n",
    "popular_products = pd.DataFrame(df.groupby('productId')['rating'].count())\n",
    "most_popular = popular_products.sort_values('rating', ascending=False)\n",
    "most_popular.head(30).plot(kind = \"bar\",figsize=(12, 4))"
   ]
  },
  {
   "cell_type": "code",
   "execution_count": null,
   "metadata": {},
   "outputs": [
    {
     "name": "stdout",
     "output_type": "stream",
     "text": [
      "Usuarios con más de 50 votos: rating    1540\n",
      "dtype: int64\n",
      "Items con más de 5 votos: rating    57791\n",
      "dtype: int64\n"
     ]
    }
   ],
   "source": [
    "user_votes = pd.DataFrame(df.groupby('userId')['rating'].count())\n",
    "users_filter = user_votes[user_votes['rating'] >= 50]\n",
    "\n",
    "print(\"Usuarios con más de 50 votos:\", users_filter.nunique())\n",
    "\n",
    "items_votes = pd.DataFrame(df.groupby('productId')['rating'].count())\n",
    "items_filter = items_votes[items_votes['rating'] >= 20]\n",
    "\n",
    "print(\"Items con más de 5 votos:\", items_filter.nunique())"
   ]
  },
  {
   "cell_type": "code",
   "execution_count": null,
   "metadata": {},
   "outputs": [
    {
     "name": "stdout",
     "output_type": "stream",
     "text": [
      "Tamaño del dataset después de aplicar los filtros:\n",
      "(100643, 4)\n",
      "Total number of ratings : 5\n",
      "Total number of users   : 1540\n",
      "Total number of products  : 48190\n"
     ]
    }
   ],
   "source": [
    "# Users que passen el filtre\n",
    "filtered_users = df[df['userId'].isin(users_filter.index)]\n",
    "\n",
    "#Items que passen el filtre\n",
    "filtered_dataset = filtered_users[filtered_users['productId'].isin(items_filter.index)]\n",
    "\n",
    "#\n",
    "print(\"Tamaño del dataset después de aplicar los filtros:\")\n",
    "print(filtered_dataset.shape)\n",
    "\n",
    "print(\"Total number of ratings :\",filtered_users.rating.nunique())\n",
    "print(\"Total number of users   :\", filtered_users.userId.nunique())\n",
    "print(\"Total number of products  :\", filtered_users.productId.nunique())"
   ]
  },
  {
   "cell_type": "code",
   "execution_count": 97,
   "metadata": {},
   "outputs": [],
   "source": [
    "reader = Reader()\n",
    "data = Dataset.load_from_df(filtered_dataset[['userId', 'productId', 'rating']], reader)"
   ]
  },
  {
   "cell_type": "code",
   "execution_count": 98,
   "metadata": {},
   "outputs": [
    {
     "name": "stdout",
     "output_type": "stream",
     "text": [
      "Evaluating RMSE, MAE of algorithm SVD on 5 split(s).\n",
      "\n",
      "                  Fold 1  Fold 2  Fold 3  Fold 4  Fold 5  Mean    Std     \n",
      "RMSE (testset)    0.9547  0.9669  0.9803  0.9622  0.9545  0.9637  0.0095  \n",
      "MAE (testset)     0.7019  0.7133  0.7222  0.7097  0.7040  0.7102  0.0072  \n",
      "Fit time          1.03    1.10    1.04    0.98    0.97    1.02    0.05    \n",
      "Test time         0.07    0.07    0.08    0.07    0.07    0.07    0.00    \n"
     ]
    },
    {
     "data": {
      "text/plain": [
       "{'test_rmse': array([0.9546839 , 0.96693453, 0.98033888, 0.96220412, 0.95447307]),\n",
       " 'test_mae': array([0.70187173, 0.71330863, 0.722152  , 0.709714  , 0.70399915]),\n",
       " 'fit_time': (1.030531883239746,\n",
       "  1.0950956344604492,\n",
       "  1.0412135124206543,\n",
       "  0.979856014251709,\n",
       "  0.9690630435943604),\n",
       " 'test_time': (0.06958699226379395,\n",
       "  0.0676276683807373,\n",
       "  0.07624363899230957,\n",
       "  0.06894516944885254,\n",
       "  0.06673717498779297)}"
      ]
     },
     "execution_count": 98,
     "metadata": {},
     "output_type": "execute_result"
    }
   ],
   "source": [
    "svd = SVD()\n",
    "cross_validate(svd, data, measures=['RMSE', 'MAE'], cv=5, verbose=True)"
   ]
  },
  {
   "cell_type": "code",
   "execution_count": 99,
   "metadata": {},
   "outputs": [
    {
     "data": {
      "text/plain": [
       "<surprise.prediction_algorithms.matrix_factorization.SVD at 0x2d35cf529c0>"
      ]
     },
     "execution_count": 99,
     "metadata": {},
     "output_type": "execute_result"
    }
   ],
   "source": [
    "trainset = data.build_full_trainset()\n",
    "svd.fit(trainset)"
   ]
  },
  {
   "cell_type": "code",
   "execution_count": 102,
   "metadata": {},
   "outputs": [
    {
     "data": {
      "text/plain": [
       "userId\n",
       "ADLVFFE4VBT8      395\n",
       "A3OXHLG6DIBRW8    375\n",
       "A6FIAB28IS79      352\n",
       "A5JLAU2ARJ0BO     329\n",
       "A680RUE1FDO8B     325\n",
       "                 ... \n",
       "A2C8I2RQ0WG940     20\n",
       "AD8DLOGHAXL        19\n",
       "AP2NZAALUQKF5      16\n",
       "A16CVJUQOB6GIB     15\n",
       "A3MV1KKHX51FYT      6\n",
       "Name: count, Length: 1540, dtype: int64"
      ]
     },
     "execution_count": 102,
     "metadata": {},
     "output_type": "execute_result"
    }
   ],
   "source": [
    "filtered_dataset['userId'].value_counts()"
   ]
  },
  {
   "cell_type": "code",
   "execution_count": 103,
   "metadata": {},
   "outputs": [
    {
     "data": {
      "text/html": [
       "<div>\n",
       "<style scoped>\n",
       "    .dataframe tbody tr th:only-of-type {\n",
       "        vertical-align: middle;\n",
       "    }\n",
       "\n",
       "    .dataframe tbody tr th {\n",
       "        vertical-align: top;\n",
       "    }\n",
       "\n",
       "    .dataframe thead th {\n",
       "        text-align: right;\n",
       "    }\n",
       "</style>\n",
       "<table border=\"1\" class=\"dataframe\">\n",
       "  <thead>\n",
       "    <tr style=\"text-align: right;\">\n",
       "      <th></th>\n",
       "      <th>userId</th>\n",
       "      <th>productId</th>\n",
       "      <th>rating</th>\n",
       "      <th>timestamp</th>\n",
       "    </tr>\n",
       "  </thead>\n",
       "  <tbody>\n",
       "    <tr>\n",
       "      <th>1310</th>\n",
       "      <td>A3LDPF5FMB782Z</td>\n",
       "      <td>1400501466</td>\n",
       "      <td>5.0</td>\n",
       "      <td>1336003200</td>\n",
       "    </tr>\n",
       "    <tr>\n",
       "      <th>1588</th>\n",
       "      <td>A3LDPF5FMB782Z</td>\n",
       "      <td>1400501520</td>\n",
       "      <td>5.0</td>\n",
       "      <td>1362873600</td>\n",
       "    </tr>\n",
       "    <tr>\n",
       "      <th>1696</th>\n",
       "      <td>A3LDPF5FMB782Z</td>\n",
       "      <td>1400501776</td>\n",
       "      <td>5.0</td>\n",
       "      <td>1334102400</td>\n",
       "    </tr>\n",
       "    <tr>\n",
       "      <th>2502</th>\n",
       "      <td>A3LDPF5FMB782Z</td>\n",
       "      <td>140053271X</td>\n",
       "      <td>4.0</td>\n",
       "      <td>1310515200</td>\n",
       "    </tr>\n",
       "    <tr>\n",
       "      <th>3235</th>\n",
       "      <td>A3LDPF5FMB782Z</td>\n",
       "      <td>1400698987</td>\n",
       "      <td>4.0</td>\n",
       "      <td>1392854400</td>\n",
       "    </tr>\n",
       "    <tr>\n",
       "      <th>301916</th>\n",
       "      <td>A3LDPF5FMB782Z</td>\n",
       "      <td>B00009W3U9</td>\n",
       "      <td>4.0</td>\n",
       "      <td>1295913600</td>\n",
       "    </tr>\n",
       "    <tr>\n",
       "      <th>504686</th>\n",
       "      <td>A3LDPF5FMB782Z</td>\n",
       "      <td>B0002SQ0A4</td>\n",
       "      <td>4.0</td>\n",
       "      <td>1353888000</td>\n",
       "    </tr>\n",
       "    <tr>\n",
       "      <th>675474</th>\n",
       "      <td>A3LDPF5FMB782Z</td>\n",
       "      <td>B0009O6IXA</td>\n",
       "      <td>1.0</td>\n",
       "      <td>1295827200</td>\n",
       "    </tr>\n",
       "    <tr>\n",
       "      <th>950698</th>\n",
       "      <td>A3LDPF5FMB782Z</td>\n",
       "      <td>B000FSILBM</td>\n",
       "      <td>5.0</td>\n",
       "      <td>1295827200</td>\n",
       "    </tr>\n",
       "    <tr>\n",
       "      <th>977701</th>\n",
       "      <td>A3LDPF5FMB782Z</td>\n",
       "      <td>B000GT6HAM</td>\n",
       "      <td>2.0</td>\n",
       "      <td>1192579200</td>\n",
       "    </tr>\n",
       "    <tr>\n",
       "      <th>1017085</th>\n",
       "      <td>A3LDPF5FMB782Z</td>\n",
       "      <td>B000HZDF8W</td>\n",
       "      <td>3.0</td>\n",
       "      <td>1323648000</td>\n",
       "    </tr>\n",
       "    <tr>\n",
       "      <th>1047368</th>\n",
       "      <td>A3LDPF5FMB782Z</td>\n",
       "      <td>B000IF4788</td>\n",
       "      <td>5.0</td>\n",
       "      <td>1333497600</td>\n",
       "    </tr>\n",
       "    <tr>\n",
       "      <th>1210521</th>\n",
       "      <td>A3LDPF5FMB782Z</td>\n",
       "      <td>B000NK8EWI</td>\n",
       "      <td>4.0</td>\n",
       "      <td>1193616000</td>\n",
       "    </tr>\n",
       "    <tr>\n",
       "      <th>1218974</th>\n",
       "      <td>A3LDPF5FMB782Z</td>\n",
       "      <td>B000NOUP0S</td>\n",
       "      <td>5.0</td>\n",
       "      <td>1192406400</td>\n",
       "    </tr>\n",
       "    <tr>\n",
       "      <th>1295976</th>\n",
       "      <td>A3LDPF5FMB782Z</td>\n",
       "      <td>B000Q3043Y</td>\n",
       "      <td>5.0</td>\n",
       "      <td>1295913600</td>\n",
       "    </tr>\n",
       "    <tr>\n",
       "      <th>1312372</th>\n",
       "      <td>A3LDPF5FMB782Z</td>\n",
       "      <td>B000QUUFRW</td>\n",
       "      <td>5.0</td>\n",
       "      <td>1340668800</td>\n",
       "    </tr>\n",
       "    <tr>\n",
       "      <th>1445469</th>\n",
       "      <td>A3LDPF5FMB782Z</td>\n",
       "      <td>B000VL1QF6</td>\n",
       "      <td>4.0</td>\n",
       "      <td>1202169600</td>\n",
       "    </tr>\n",
       "    <tr>\n",
       "      <th>1714755</th>\n",
       "      <td>A3LDPF5FMB782Z</td>\n",
       "      <td>B0015DNIOG</td>\n",
       "      <td>4.0</td>\n",
       "      <td>1343174400</td>\n",
       "    </tr>\n",
       "    <tr>\n",
       "      <th>1833651</th>\n",
       "      <td>A3LDPF5FMB782Z</td>\n",
       "      <td>B0019N4RUQ</td>\n",
       "      <td>5.0</td>\n",
       "      <td>1302998400</td>\n",
       "    </tr>\n",
       "    <tr>\n",
       "      <th>1968967</th>\n",
       "      <td>A3LDPF5FMB782Z</td>\n",
       "      <td>B001EM9JXC</td>\n",
       "      <td>5.0</td>\n",
       "      <td>1297036800</td>\n",
       "    </tr>\n",
       "    <tr>\n",
       "      <th>1989660</th>\n",
       "      <td>A3LDPF5FMB782Z</td>\n",
       "      <td>B001F50UHM</td>\n",
       "      <td>4.0</td>\n",
       "      <td>1254182400</td>\n",
       "    </tr>\n",
       "    <tr>\n",
       "      <th>2000742</th>\n",
       "      <td>A3LDPF5FMB782Z</td>\n",
       "      <td>B001FA09WI</td>\n",
       "      <td>5.0</td>\n",
       "      <td>1343174400</td>\n",
       "    </tr>\n",
       "    <tr>\n",
       "      <th>2044131</th>\n",
       "      <td>A3LDPF5FMB782Z</td>\n",
       "      <td>B001GN3SGS</td>\n",
       "      <td>5.0</td>\n",
       "      <td>1296000000</td>\n",
       "    </tr>\n",
       "    <tr>\n",
       "      <th>2180447</th>\n",
       "      <td>A3LDPF5FMB782Z</td>\n",
       "      <td>B001NS828K</td>\n",
       "      <td>5.0</td>\n",
       "      <td>1304467200</td>\n",
       "    </tr>\n",
       "    <tr>\n",
       "      <th>2236747</th>\n",
       "      <td>A3LDPF5FMB782Z</td>\n",
       "      <td>B001QFZMBU</td>\n",
       "      <td>5.0</td>\n",
       "      <td>1249084800</td>\n",
       "    </tr>\n",
       "    <tr>\n",
       "      <th>2236948</th>\n",
       "      <td>A3LDPF5FMB782Z</td>\n",
       "      <td>B001QFZMCO</td>\n",
       "      <td>5.0</td>\n",
       "      <td>1249084800</td>\n",
       "    </tr>\n",
       "    <tr>\n",
       "      <th>2285961</th>\n",
       "      <td>A3LDPF5FMB782Z</td>\n",
       "      <td>B001SER48S</td>\n",
       "      <td>4.0</td>\n",
       "      <td>1261612800</td>\n",
       "    </tr>\n",
       "    <tr>\n",
       "      <th>2301947</th>\n",
       "      <td>A3LDPF5FMB782Z</td>\n",
       "      <td>B001TCHOPC</td>\n",
       "      <td>1.0</td>\n",
       "      <td>1265155200</td>\n",
       "    </tr>\n",
       "    <tr>\n",
       "      <th>2350942</th>\n",
       "      <td>A3LDPF5FMB782Z</td>\n",
       "      <td>B001UFYFYG</td>\n",
       "      <td>5.0</td>\n",
       "      <td>1297814400</td>\n",
       "    </tr>\n",
       "    <tr>\n",
       "      <th>2570188</th>\n",
       "      <td>A3LDPF5FMB782Z</td>\n",
       "      <td>B002EPF6YO</td>\n",
       "      <td>3.0</td>\n",
       "      <td>1302220800</td>\n",
       "    </tr>\n",
       "    <tr>\n",
       "      <th>2591895</th>\n",
       "      <td>A3LDPF5FMB782Z</td>\n",
       "      <td>B002GXIT6Q</td>\n",
       "      <td>4.0</td>\n",
       "      <td>1323993600</td>\n",
       "    </tr>\n",
       "    <tr>\n",
       "      <th>2687849</th>\n",
       "      <td>A3LDPF5FMB782Z</td>\n",
       "      <td>B002LITT3S</td>\n",
       "      <td>4.0</td>\n",
       "      <td>1277337600</td>\n",
       "    </tr>\n",
       "    <tr>\n",
       "      <th>2688724</th>\n",
       "      <td>A3LDPF5FMB782Z</td>\n",
       "      <td>B002LITT6U</td>\n",
       "      <td>4.0</td>\n",
       "      <td>1290384000</td>\n",
       "    </tr>\n",
       "    <tr>\n",
       "      <th>2883623</th>\n",
       "      <td>A3LDPF5FMB782Z</td>\n",
       "      <td>B002V88HFE</td>\n",
       "      <td>5.0</td>\n",
       "      <td>1320105600</td>\n",
       "    </tr>\n",
       "    <tr>\n",
       "      <th>2907327</th>\n",
       "      <td>A3LDPF5FMB782Z</td>\n",
       "      <td>B002W4RPD2</td>\n",
       "      <td>5.0</td>\n",
       "      <td>1296691200</td>\n",
       "    </tr>\n",
       "    <tr>\n",
       "      <th>2981293</th>\n",
       "      <td>A3LDPF5FMB782Z</td>\n",
       "      <td>B0030LKGAU</td>\n",
       "      <td>4.0</td>\n",
       "      <td>1291680000</td>\n",
       "    </tr>\n",
       "    <tr>\n",
       "      <th>2981400</th>\n",
       "      <td>A3LDPF5FMB782Z</td>\n",
       "      <td>B0030LO5CU</td>\n",
       "      <td>4.0</td>\n",
       "      <td>1277510400</td>\n",
       "    </tr>\n",
       "    <tr>\n",
       "      <th>2985094</th>\n",
       "      <td>A3LDPF5FMB782Z</td>\n",
       "      <td>B0030NL6FW</td>\n",
       "      <td>4.0</td>\n",
       "      <td>1273795200</td>\n",
       "    </tr>\n",
       "    <tr>\n",
       "      <th>3067523</th>\n",
       "      <td>A3LDPF5FMB782Z</td>\n",
       "      <td>B0035FZJJ4</td>\n",
       "      <td>3.0</td>\n",
       "      <td>1291680000</td>\n",
       "    </tr>\n",
       "    <tr>\n",
       "      <th>3068087</th>\n",
       "      <td>A3LDPF5FMB782Z</td>\n",
       "      <td>B0035FZJKI</td>\n",
       "      <td>4.0</td>\n",
       "      <td>1292371200</td>\n",
       "    </tr>\n",
       "    <tr>\n",
       "      <th>3071636</th>\n",
       "      <td>A3LDPF5FMB782Z</td>\n",
       "      <td>B0035JD0DW</td>\n",
       "      <td>3.0</td>\n",
       "      <td>1278374400</td>\n",
       "    </tr>\n",
       "    <tr>\n",
       "      <th>3245498</th>\n",
       "      <td>A3LDPF5FMB782Z</td>\n",
       "      <td>B003D2BS4E</td>\n",
       "      <td>5.0</td>\n",
       "      <td>1329004800</td>\n",
       "    </tr>\n",
       "    <tr>\n",
       "      <th>3422044</th>\n",
       "      <td>A3LDPF5FMB782Z</td>\n",
       "      <td>B003LPTAYI</td>\n",
       "      <td>5.0</td>\n",
       "      <td>1302998400</td>\n",
       "    </tr>\n",
       "    <tr>\n",
       "      <th>3528506</th>\n",
       "      <td>A3LDPF5FMB782Z</td>\n",
       "      <td>B003S4ZJW4</td>\n",
       "      <td>3.0</td>\n",
       "      <td>1303776000</td>\n",
       "    </tr>\n",
       "    <tr>\n",
       "      <th>3629764</th>\n",
       "      <td>A3LDPF5FMB782Z</td>\n",
       "      <td>B003WD2SLQ</td>\n",
       "      <td>3.0</td>\n",
       "      <td>1297382400</td>\n",
       "    </tr>\n",
       "    <tr>\n",
       "      <th>3711372</th>\n",
       "      <td>A3LDPF5FMB782Z</td>\n",
       "      <td>B003ZSHNG8</td>\n",
       "      <td>4.0</td>\n",
       "      <td>1291680000</td>\n",
       "    </tr>\n",
       "    <tr>\n",
       "      <th>3784684</th>\n",
       "      <td>A3LDPF5FMB782Z</td>\n",
       "      <td>B0041PO3DU</td>\n",
       "      <td>5.0</td>\n",
       "      <td>1296000000</td>\n",
       "    </tr>\n",
       "    <tr>\n",
       "      <th>3901671</th>\n",
       "      <td>A3LDPF5FMB782Z</td>\n",
       "      <td>B00462RU60</td>\n",
       "      <td>3.0</td>\n",
       "      <td>1300752000</td>\n",
       "    </tr>\n",
       "    <tr>\n",
       "      <th>3965985</th>\n",
       "      <td>A3LDPF5FMB782Z</td>\n",
       "      <td>B0049QV65O</td>\n",
       "      <td>4.0</td>\n",
       "      <td>1346544000</td>\n",
       "    </tr>\n",
       "    <tr>\n",
       "      <th>4151198</th>\n",
       "      <td>A3LDPF5FMB782Z</td>\n",
       "      <td>B004HO58NO</td>\n",
       "      <td>3.0</td>\n",
       "      <td>1319328000</td>\n",
       "    </tr>\n",
       "    <tr>\n",
       "      <th>4332163</th>\n",
       "      <td>A3LDPF5FMB782Z</td>\n",
       "      <td>B004P1ITU8</td>\n",
       "      <td>3.0</td>\n",
       "      <td>1322179200</td>\n",
       "    </tr>\n",
       "    <tr>\n",
       "      <th>4332311</th>\n",
       "      <td>A3LDPF5FMB782Z</td>\n",
       "      <td>B004P1ITV2</td>\n",
       "      <td>2.0</td>\n",
       "      <td>1322179200</td>\n",
       "    </tr>\n",
       "    <tr>\n",
       "      <th>4621617</th>\n",
       "      <td>A3LDPF5FMB782Z</td>\n",
       "      <td>B0050PKH5S</td>\n",
       "      <td>4.0</td>\n",
       "      <td>1320364800</td>\n",
       "    </tr>\n",
       "    <tr>\n",
       "      <th>5631152</th>\n",
       "      <td>A3LDPF5FMB782Z</td>\n",
       "      <td>B0075SUK14</td>\n",
       "      <td>5.0</td>\n",
       "      <td>1342310400</td>\n",
       "    </tr>\n",
       "    <tr>\n",
       "      <th>6248745</th>\n",
       "      <td>A3LDPF5FMB782Z</td>\n",
       "      <td>B008I6672I</td>\n",
       "      <td>2.0</td>\n",
       "      <td>1361491200</td>\n",
       "    </tr>\n",
       "    <tr>\n",
       "      <th>6544365</th>\n",
       "      <td>A3LDPF5FMB782Z</td>\n",
       "      <td>B00995IGBM</td>\n",
       "      <td>3.0</td>\n",
       "      <td>1393977600</td>\n",
       "    </tr>\n",
       "    <tr>\n",
       "      <th>7127653</th>\n",
       "      <td>A3LDPF5FMB782Z</td>\n",
       "      <td>B00BLCLUQO</td>\n",
       "      <td>4.0</td>\n",
       "      <td>1389312000</td>\n",
       "    </tr>\n",
       "    <tr>\n",
       "      <th>7296614</th>\n",
       "      <td>A3LDPF5FMB782Z</td>\n",
       "      <td>B00COYOAYW</td>\n",
       "      <td>4.0</td>\n",
       "      <td>1380067200</td>\n",
       "    </tr>\n",
       "    <tr>\n",
       "      <th>7376630</th>\n",
       "      <td>A3LDPF5FMB782Z</td>\n",
       "      <td>B00DB3SH2G</td>\n",
       "      <td>4.0</td>\n",
       "      <td>1374710400</td>\n",
       "    </tr>\n",
       "  </tbody>\n",
       "</table>\n",
       "</div>"
      ],
      "text/plain": [
       "                 userId   productId  rating   timestamp\n",
       "1310     A3LDPF5FMB782Z  1400501466     5.0  1336003200\n",
       "1588     A3LDPF5FMB782Z  1400501520     5.0  1362873600\n",
       "1696     A3LDPF5FMB782Z  1400501776     5.0  1334102400\n",
       "2502     A3LDPF5FMB782Z  140053271X     4.0  1310515200\n",
       "3235     A3LDPF5FMB782Z  1400698987     4.0  1392854400\n",
       "301916   A3LDPF5FMB782Z  B00009W3U9     4.0  1295913600\n",
       "504686   A3LDPF5FMB782Z  B0002SQ0A4     4.0  1353888000\n",
       "675474   A3LDPF5FMB782Z  B0009O6IXA     1.0  1295827200\n",
       "950698   A3LDPF5FMB782Z  B000FSILBM     5.0  1295827200\n",
       "977701   A3LDPF5FMB782Z  B000GT6HAM     2.0  1192579200\n",
       "1017085  A3LDPF5FMB782Z  B000HZDF8W     3.0  1323648000\n",
       "1047368  A3LDPF5FMB782Z  B000IF4788     5.0  1333497600\n",
       "1210521  A3LDPF5FMB782Z  B000NK8EWI     4.0  1193616000\n",
       "1218974  A3LDPF5FMB782Z  B000NOUP0S     5.0  1192406400\n",
       "1295976  A3LDPF5FMB782Z  B000Q3043Y     5.0  1295913600\n",
       "1312372  A3LDPF5FMB782Z  B000QUUFRW     5.0  1340668800\n",
       "1445469  A3LDPF5FMB782Z  B000VL1QF6     4.0  1202169600\n",
       "1714755  A3LDPF5FMB782Z  B0015DNIOG     4.0  1343174400\n",
       "1833651  A3LDPF5FMB782Z  B0019N4RUQ     5.0  1302998400\n",
       "1968967  A3LDPF5FMB782Z  B001EM9JXC     5.0  1297036800\n",
       "1989660  A3LDPF5FMB782Z  B001F50UHM     4.0  1254182400\n",
       "2000742  A3LDPF5FMB782Z  B001FA09WI     5.0  1343174400\n",
       "2044131  A3LDPF5FMB782Z  B001GN3SGS     5.0  1296000000\n",
       "2180447  A3LDPF5FMB782Z  B001NS828K     5.0  1304467200\n",
       "2236747  A3LDPF5FMB782Z  B001QFZMBU     5.0  1249084800\n",
       "2236948  A3LDPF5FMB782Z  B001QFZMCO     5.0  1249084800\n",
       "2285961  A3LDPF5FMB782Z  B001SER48S     4.0  1261612800\n",
       "2301947  A3LDPF5FMB782Z  B001TCHOPC     1.0  1265155200\n",
       "2350942  A3LDPF5FMB782Z  B001UFYFYG     5.0  1297814400\n",
       "2570188  A3LDPF5FMB782Z  B002EPF6YO     3.0  1302220800\n",
       "2591895  A3LDPF5FMB782Z  B002GXIT6Q     4.0  1323993600\n",
       "2687849  A3LDPF5FMB782Z  B002LITT3S     4.0  1277337600\n",
       "2688724  A3LDPF5FMB782Z  B002LITT6U     4.0  1290384000\n",
       "2883623  A3LDPF5FMB782Z  B002V88HFE     5.0  1320105600\n",
       "2907327  A3LDPF5FMB782Z  B002W4RPD2     5.0  1296691200\n",
       "2981293  A3LDPF5FMB782Z  B0030LKGAU     4.0  1291680000\n",
       "2981400  A3LDPF5FMB782Z  B0030LO5CU     4.0  1277510400\n",
       "2985094  A3LDPF5FMB782Z  B0030NL6FW     4.0  1273795200\n",
       "3067523  A3LDPF5FMB782Z  B0035FZJJ4     3.0  1291680000\n",
       "3068087  A3LDPF5FMB782Z  B0035FZJKI     4.0  1292371200\n",
       "3071636  A3LDPF5FMB782Z  B0035JD0DW     3.0  1278374400\n",
       "3245498  A3LDPF5FMB782Z  B003D2BS4E     5.0  1329004800\n",
       "3422044  A3LDPF5FMB782Z  B003LPTAYI     5.0  1302998400\n",
       "3528506  A3LDPF5FMB782Z  B003S4ZJW4     3.0  1303776000\n",
       "3629764  A3LDPF5FMB782Z  B003WD2SLQ     3.0  1297382400\n",
       "3711372  A3LDPF5FMB782Z  B003ZSHNG8     4.0  1291680000\n",
       "3784684  A3LDPF5FMB782Z  B0041PO3DU     5.0  1296000000\n",
       "3901671  A3LDPF5FMB782Z  B00462RU60     3.0  1300752000\n",
       "3965985  A3LDPF5FMB782Z  B0049QV65O     4.0  1346544000\n",
       "4151198  A3LDPF5FMB782Z  B004HO58NO     3.0  1319328000\n",
       "4332163  A3LDPF5FMB782Z  B004P1ITU8     3.0  1322179200\n",
       "4332311  A3LDPF5FMB782Z  B004P1ITV2     2.0  1322179200\n",
       "4621617  A3LDPF5FMB782Z  B0050PKH5S     4.0  1320364800\n",
       "5631152  A3LDPF5FMB782Z  B0075SUK14     5.0  1342310400\n",
       "6248745  A3LDPF5FMB782Z  B008I6672I     2.0  1361491200\n",
       "6544365  A3LDPF5FMB782Z  B00995IGBM     3.0  1393977600\n",
       "7127653  A3LDPF5FMB782Z  B00BLCLUQO     4.0  1389312000\n",
       "7296614  A3LDPF5FMB782Z  B00COYOAYW     4.0  1380067200\n",
       "7376630  A3LDPF5FMB782Z  B00DB3SH2G     4.0  1374710400"
      ]
     },
     "execution_count": 103,
     "metadata": {},
     "output_type": "execute_result"
    }
   ],
   "source": [
    "# Check specific userId review\n",
    "filtered_dataset[filtered_dataset['userId'] == 'A3LDPF5FMB782Z']"
   ]
  },
  {
   "cell_type": "code",
   "execution_count": 114,
   "metadata": {},
   "outputs": [
    {
     "name": "stdout",
     "output_type": "stream",
     "text": [
      "user: A3LDPF5FMB782Z item: 1400501776 r_ui = None   est = 4.31   {'was_impossible': False}\n"
     ]
    },
    {
     "data": {
      "text/plain": [
       "1696    5.0\n",
       "Name: rating, dtype: float64"
      ]
     },
     "execution_count": 114,
     "metadata": {},
     "output_type": "execute_result"
    }
   ],
   "source": [
    "print(svd.predict('A3LDPF5FMB782Z', '1400501776'))\n",
    "filtre = filtered_dataset[filtered_dataset['userId'] == 'A3LDPF5FMB782Z']\n",
    "filtre[filtre['productId'] == '1400501776']['rating']"
   ]
  },
  {
   "cell_type": "code",
   "execution_count": null,
   "metadata": {},
   "outputs": [],
   "source": []
  },
  {
   "cell_type": "code",
   "execution_count": null,
   "metadata": {},
   "outputs": [],
   "source": []
  },
  {
   "cell_type": "code",
   "execution_count": null,
   "metadata": {},
   "outputs": [],
   "source": []
  }
 ],
 "metadata": {
  "kernelspec": {
   "display_name": "Python 3",
   "language": "python",
   "name": "python3"
  },
  "language_info": {
   "codemirror_mode": {
    "name": "ipython",
    "version": 3
   },
   "file_extension": ".py",
   "mimetype": "text/x-python",
   "name": "python",
   "nbconvert_exporter": "python",
   "pygments_lexer": "ipython3",
   "version": "3.12.3"
  }
 },
 "nbformat": 4,
 "nbformat_minor": 2
}

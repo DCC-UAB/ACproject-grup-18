{
 "cells": [
  {
   "cell_type": "code",
   "metadata": {
    "ExecuteTime": {
     "end_time": "2024-12-17T08:21:47.967574Z",
     "start_time": "2024-12-17T08:21:47.944576Z"
    }
   },
   "source": [
    "import matplotlib.pyplot as plt\n",
    "import numpy as np\n",
    "import pandas as pd\n",
    "import seaborn as sns\n",
    "\n",
    "from sklearn import datasets\n",
    "from sklearn.preprocessing import Normalizer, StandardScaler\n",
    "from sklearn.metrics import accuracy_score, confusion_matrix, recall_score, precision_score, roc_curve, roc_auc_score\n",
    "from sklearn.neighbors import KNeighborsClassifier\n",
    "from surprise.model_selection import train_test_split, cross_validate\n",
    "from surprise import SVD, Reader, Dataset\n",
    "\n",
    "import numpy as np\n",
    "from surprise import SVD, KNNBasic, Dataset, Reader\n",
    "from surprise.model_selection import KFold\n",
    "from surprise import accuracy\n",
    "# Importar librerías necesarias\n",
    "import matplotlib.pyplot as plt\n",
    "import numpy as np\n",
    "import pandas as pd\n",
    "import seaborn as sns\n",
    "import time\n",
    "\n",
    "# Librerías de Scikit-learn\n",
    "from sklearn import datasets\n",
    "from sklearn.preprocessing import Normalizer, StandardScaler\n",
    "from sklearn.metrics import accuracy_score, confusion_matrix, recall_score, precision_score, roc_curve, roc_auc_score\n",
    "from sklearn.neighbors import KNeighborsClassifier\n"
   ],
   "outputs": [],
   "execution_count": 3
  },
  {
   "cell_type": "code",
   "metadata": {
    "ExecuteTime": {
     "end_time": "2024-12-17T08:21:55.715111Z",
     "start_time": "2024-12-17T08:21:47.992568Z"
    }
   },
   "source": [
    "df = pd.read_csv(\"C:\\\\Users\\\\guill\\\\Downloads\\\\ratings_Electronics.csv\",\n",
    "                             names=['userId', 'productId','rating','timestamp'])\n",
    "print(df.shape[0])"
   ],
   "outputs": [
    {
     "name": "stdout",
     "output_type": "stream",
     "text": [
      "7824482\n"
     ]
    }
   ],
   "execution_count": 4
  },
  {
   "cell_type": "code",
   "metadata": {
    "ExecuteTime": {
     "end_time": "2024-12-17T08:22:05.355526Z",
     "start_time": "2024-12-17T08:21:56.160672Z"
    }
   },
   "source": [
    "user_counts = df['userId'].value_counts()\n",
    "product_counts = df['productId'].value_counts()\n",
    "filtered_dataset = df[\n",
    "    (df['userId'].isin(user_counts[user_counts >= 50].index)) &\n",
    "    (df['productId'].isin(product_counts[product_counts >= 5].index))\n",
    "]\n",
    "filtered_dataset.shape\n",
    "\n",
    "print(\"Total number of ratings :\",filtered_dataset['rating'].nunique())\n",
    "print(\"Total number of users   :\", filtered_dataset['userId'].nunique())\n",
    "print(\"Total number of products  :\", filtered_dataset['productId'].nunique())\n",
    "print(filtered_dataset['userId'].value_counts())\n"
   ],
   "outputs": [
    {
     "name": "stdout",
     "output_type": "stream",
     "text": [
      "Total number of ratings : 5\n",
      "Total number of users   : 1540\n",
      "Total number of products  : 39939\n",
      "userId\n",
      "ADLVFFE4VBT8      468\n",
      "A5JLAU2ARJ0BO     463\n",
      "A3OXHLG6DIBRW8    456\n",
      "A6FIAB28IS79      412\n",
      "A680RUE1FDO8B     381\n",
      "                 ... \n",
      "A1XEQGYY1IL8CD     34\n",
      "AD8DLOGHAXL        34\n",
      "A2NT3W1F1XYBFZ     33\n",
      "A16CVJUQOB6GIB     31\n",
      "A3MV1KKHX51FYT     20\n",
      "Name: count, Length: 1540, dtype: int64\n"
     ]
    }
   ],
   "execution_count": 5
  },
  {
   "cell_type": "code",
   "metadata": {
    "ExecuteTime": {
     "end_time": "2024-12-17T08:22:05.434512Z",
     "start_time": "2024-12-17T08:22:05.390518Z"
    }
   },
   "source": [
    "filtered_counts = filtered_dataset['userId'].value_counts()\n",
    "filtered_counts = filtered_counts[filtered_counts >= 50]"
   ],
   "outputs": [],
   "execution_count": 6
  },
  {
   "cell_type": "code",
   "metadata": {
    "ExecuteTime": {
     "end_time": "2024-12-17T08:22:06.286219Z",
     "start_time": "2024-12-17T08:22:05.470048Z"
    }
   },
   "source": [
    "filtered_counts\n",
    "# Obtener los IDs de usuarios que cumplen la condición\n",
    "user_ids_of_interest = filtered_counts.index\n",
    "\n",
    "# Filtrar el DataFrame original\n",
    "filtered_dataset = filtered_dataset[filtered_dataset['userId'].isin(user_ids_of_interest)]\n",
    "print(filtered_dataset)\n",
    "print(filtered_dataset['userId'].value_counts())\n",
    "user_activity = filtered_dataset.groupby('userId')['rating'].count()\n",
    "print(\"Total number of ratings :\",filtered_dataset['rating'].nunique())\n",
    "print(\"Total number of users   :\", filtered_dataset['userId'].nunique())\n",
    "print(\"Total number of products  :\", filtered_dataset['productId'].nunique())\n",
    "\n",
    "sns.histplot(user_activity, kde=False, bins=30, color='skyblue')\n",
    "plt.title(\"Distribució de l'activitat dels usuaris\")\n",
    "plt.xlabel(\"Nombre de valoracions per usuari\")\n",
    "plt.ylabel(\"Nombre d'usuaris\")\n",
    "plt.xticks(range(0, user_activity.max() + 50, 50))\n",
    "plt.show()"
   ],
   "outputs": [
    {
     "name": "stdout",
     "output_type": "stream",
     "text": [
      "                 userId   productId  rating   timestamp\n",
      "118       AT09WGFUM934H  0594481813     3.0  1377907200\n",
      "177      A32HSNCNPRUMTR  0970407998     1.0  1319673600\n",
      "178      A17HMM1M7T9PJ1  0970407998     4.0  1281744000\n",
      "492      A3CLWR1UUZT6TG  0972683275     5.0  1373587200\n",
      "631      A3TAS1AG6FMBQW  0972683275     5.0  1353456000\n",
      "...                 ...         ...     ...         ...\n",
      "7824423  A34BZM6S9L7QI4  B00LGQ6HL8     5.0  1405555200\n",
      "7824424  A1G650TTTHEAL5  B00LGQ6HL8     5.0  1405382400\n",
      "7824425  A25C2M3QF9G7OQ  B00LGQ6HL8     5.0  1405555200\n",
      "7824426   A1E1LEVQ9VQNK  B00LGQ6HL8     5.0  1405641600\n",
      "7824427  A2NYK9KWFMJV4Y  B00LGQ6HL8     5.0  1405209600\n",
      "\n",
      "[107263 rows x 4 columns]\n",
      "userId\n",
      "ADLVFFE4VBT8      468\n",
      "A5JLAU2ARJ0BO     463\n",
      "A3OXHLG6DIBRW8    456\n",
      "A6FIAB28IS79      412\n",
      "A680RUE1FDO8B     381\n",
      "                 ... \n",
      "A1ZPUEHF4AES86     50\n",
      "AR1T36GLLAFFX      50\n",
      "AW6FQE5QRF2LM      50\n",
      "A1FOSIV4TWZFR7     50\n",
      "AN0JK8OQLUC55      50\n",
      "Name: count, Length: 1320, dtype: int64\n",
      "Total number of ratings : 5\n",
      "Total number of users   : 1320\n",
      "Total number of products  : 36915\n"
     ]
    },
    {
     "data": {
      "text/plain": [
       "<Figure size 640x480 with 1 Axes>"
      ],
      "image/png": "[encoded data removed]"
     },
     "metadata": {},
     "output_type": "display_data"
    }
   ],
   "execution_count": 7
  },
  {
   "cell_type": "code",
   "metadata": {
    "ExecuteTime": {
     "end_time": "2024-12-17T08:22:06.411742Z",
     "start_time": "2024-12-17T08:22:06.321219Z"
    }
   },
   "source": [
    "#filtered_dataset Matriu filtrada dels usuaris. \n",
    "# 1. Matriu agafem aleatoriament 500 files.\n",
    "unique_users = filtered_dataset['userId'].unique()\n",
    "\n",
    "#Seleccionar aleatoriamente 500 usuarios (o menos si hay menos usuarios disponibles)\n",
    "selected_users = np.random.choice(unique_users, size=min(1000, len(unique_users)), replace=False)\n",
    "\n",
    "#Filtrar el DataFrame para mantener solo los usuarios seleccionados\n",
    "dataset_1000 = filtered_dataset[filtered_dataset['userId'].isin(selected_users)]\n",
    "dataset_1000.shape\n",
    "print(\"Total number of users:\", dataset_1000.userId.nunique())\n",
    "dataset_1000.head"
   ],
   "outputs": [
    {
     "name": "stdout",
     "output_type": "stream",
     "text": [
      "Total number of users: 1000\n"
     ]
    },
    {
     "data": {
      "text/plain": [
       "<bound method NDFrame.head of                  userId   productId  rating   timestamp\n",
       "118       AT09WGFUM934H  0594481813     3.0  1377907200\n",
       "177      A32HSNCNPRUMTR  0970407998     1.0  1319673600\n",
       "178      A17HMM1M7T9PJ1  0970407998     4.0  1281744000\n",
       "492      A3CLWR1UUZT6TG  0972683275     5.0  1373587200\n",
       "1310     A3LDPF5FMB782Z  1400501466     5.0  1336003200\n",
       "...                 ...         ...     ...         ...\n",
       "7824221   AOVTLYTHVDNUX  B00L3YHF6O     5.0  1405296000\n",
       "7824342    AA95DWUI3ODU  B00L8QCVL6     5.0  1405987200\n",
       "7824423  A34BZM6S9L7QI4  B00LGQ6HL8     5.0  1405555200\n",
       "7824424  A1G650TTTHEAL5  B00LGQ6HL8     5.0  1405382400\n",
       "7824427  A2NYK9KWFMJV4Y  B00LGQ6HL8     5.0  1405209600\n",
       "\n",
       "[81693 rows x 4 columns]>"
      ]
     },
     "execution_count": 8,
     "metadata": {},
     "output_type": "execute_result"
    }
   ],
   "execution_count": 8
  },
  {
   "cell_type": "code",
   "metadata": {
    "ExecuteTime": {
     "end_time": "2024-12-17T08:22:07.921682Z",
     "start_time": "2024-12-17T08:22:06.447749Z"
    }
   },
   "source": [
    "reader = Reader()\n",
    "data = Dataset.load_from_df(dataset_1000[['userId', 'productId', 'rating']], reader)\n",
    "trainset, testset = train_test_split(data, test_size=0.2)\n",
    "\n",
    "start_time = time.time()\n",
    "svd = SVD()\n",
    "svd.fit(trainset)\n",
    "pred = svd.test(testset)\n",
    "execution_time_svd = time.time() - start_time"
   ],
   "outputs": [],
   "execution_count": 9
  },
  {
   "cell_type": "code",
   "metadata": {
    "ExecuteTime": {
     "end_time": "2024-12-17T08:22:07.969232Z",
     "start_time": "2024-12-17T08:22:07.955240Z"
    }
   },
   "source": [
    "#Distancia cosinus\n",
    "sim_options_cosinus = {'name': 'cosine', 'user_based': True}\n",
    "#Distancia pearson \n",
    "sim_options_pearson = {'name': 'pearson', 'user_based': True}\n",
    "#Distancia cosinus\n",
    "sim_options_cosinus_items = {'name': 'cosine', 'user_based': False}\n",
    "#Distancia pearson \n",
    "sim_options_pearson_items = {'name': 'pearson', 'user_based': False}"
   ],
   "outputs": [],
   "execution_count": 10
  },
  {
   "cell_type": "code",
   "metadata": {
    "ExecuteTime": {
     "end_time": "2024-12-17T08:22:16.454270Z",
     "start_time": "2024-12-17T08:22:08.003232Z"
    }
   },
   "source": [
    "#Model cosinus\n",
    "model_cosinus = KNNBasic(sim_options=sim_options_cosinus)\n",
    "model_cosinus_item = KNNBasic(k = 10, sim_options=sim_options_cosinus_items)\n",
    "# Realizar validación cruzada con 5 particiones\n",
    "#results_cosine = cross_validate(model_cosinus, data, measures=['RMSE', 'MAE'], cv=5, verbose=True)\n",
    "\n",
    "start_time = time.time()\n",
    "model_cosinus.fit(trainset)\n",
    "predictions_cosinus_user = model_cosinus.test(testset)\n",
    "execution_time_c_u = time.time() - start_time\n",
    "\n",
    "# Evaluar el modelo en el testset (hacer predicciones)\n",
    "start_time = time.time()\n",
    "model_cosinus_item.fit(trainset)\n",
    "predictions_cosinus_user_item = model_cosinus_item.test(testset)\n",
    "execution_time_c_i = time.time() - start_time"
   ],
   "outputs": [
    {
     "name": "stdout",
     "output_type": "stream",
     "text": [
      "Computing the cosine similarity matrix...\n",
      "Done computing similarity matrix.\n",
      "Computing the cosine similarity matrix...\n"
     ]
    },
    {
     "ename": "MemoryError",
     "evalue": "Unable to allocate 5.54 GiB for an array with shape (27278, 27278) and data type float64",
     "output_type": "error",
     "traceback": [
      "\u001B[1;31m---------------------------------------------------------------------------\u001B[0m",
      "\u001B[1;31mMemoryError\u001B[0m                               Traceback (most recent call last)",
      "Cell \u001B[1;32mIn[11], line 14\u001B[0m\n\u001B[0;32m     12\u001B[0m \u001B[38;5;66;03m# Evaluar el modelo en el testset (hacer predicciones)\u001B[39;00m\n\u001B[0;32m     13\u001B[0m start_time \u001B[38;5;241m=\u001B[39m time\u001B[38;5;241m.\u001B[39mtime()\n\u001B[1;32m---> 14\u001B[0m \u001B[43mmodel_cosinus_item\u001B[49m\u001B[38;5;241;43m.\u001B[39;49m\u001B[43mfit\u001B[49m\u001B[43m(\u001B[49m\u001B[43mtrainset\u001B[49m\u001B[43m)\u001B[49m\n\u001B[0;32m     15\u001B[0m predictions_cosinus_user_item \u001B[38;5;241m=\u001B[39m model_cosinus_item\u001B[38;5;241m.\u001B[39mtest(testset)\n\u001B[0;32m     16\u001B[0m execution_time_c_i \u001B[38;5;241m=\u001B[39m time\u001B[38;5;241m.\u001B[39mtime() \u001B[38;5;241m-\u001B[39m start_time\n",
      "File \u001B[1;32m~\\AppData\\Local\\Packages\\PythonSoftwareFoundation.Python.3.10_qbz5n2kfra8p0\\LocalCache\\local-packages\\Python310\\site-packages\\surprise\\prediction_algorithms\\knns.py:98\u001B[0m, in \u001B[0;36mKNNBasic.fit\u001B[1;34m(self, trainset)\u001B[0m\n\u001B[0;32m     95\u001B[0m \u001B[38;5;28;01mdef\u001B[39;00m \u001B[38;5;21mfit\u001B[39m(\u001B[38;5;28mself\u001B[39m, trainset):\n\u001B[0;32m     97\u001B[0m     SymmetricAlgo\u001B[38;5;241m.\u001B[39mfit(\u001B[38;5;28mself\u001B[39m, trainset)\n\u001B[1;32m---> 98\u001B[0m     \u001B[38;5;28mself\u001B[39m\u001B[38;5;241m.\u001B[39msim \u001B[38;5;241m=\u001B[39m \u001B[38;5;28;43mself\u001B[39;49m\u001B[38;5;241;43m.\u001B[39;49m\u001B[43mcompute_similarities\u001B[49m\u001B[43m(\u001B[49m\u001B[43m)\u001B[49m\n\u001B[0;32m    100\u001B[0m     \u001B[38;5;28;01mreturn\u001B[39;00m \u001B[38;5;28mself\u001B[39m\n",
      "File \u001B[1;32m~\\AppData\\Local\\Packages\\PythonSoftwareFoundation.Python.3.10_qbz5n2kfra8p0\\LocalCache\\local-packages\\Python310\\site-packages\\surprise\\prediction_algorithms\\algo_base.py:248\u001B[0m, in \u001B[0;36mAlgoBase.compute_similarities\u001B[1;34m(self)\u001B[0m\n\u001B[0;32m    246\u001B[0m \u001B[38;5;28;01mif\u001B[39;00m \u001B[38;5;28mgetattr\u001B[39m(\u001B[38;5;28mself\u001B[39m, \u001B[38;5;124m\"\u001B[39m\u001B[38;5;124mverbose\u001B[39m\u001B[38;5;124m\"\u001B[39m, \u001B[38;5;28;01mFalse\u001B[39;00m):\n\u001B[0;32m    247\u001B[0m     \u001B[38;5;28mprint\u001B[39m(\u001B[38;5;124mf\u001B[39m\u001B[38;5;124m\"\u001B[39m\u001B[38;5;124mComputing the \u001B[39m\u001B[38;5;132;01m{\u001B[39;00mname\u001B[38;5;132;01m}\u001B[39;00m\u001B[38;5;124m similarity matrix...\u001B[39m\u001B[38;5;124m\"\u001B[39m)\n\u001B[1;32m--> 248\u001B[0m sim \u001B[38;5;241m=\u001B[39m \u001B[43mconstruction_func\u001B[49m\u001B[43m[\u001B[49m\u001B[43mname\u001B[49m\u001B[43m]\u001B[49m\u001B[43m(\u001B[49m\u001B[38;5;241;43m*\u001B[39;49m\u001B[43margs\u001B[49m\u001B[43m)\u001B[49m\n\u001B[0;32m    249\u001B[0m \u001B[38;5;28;01mif\u001B[39;00m \u001B[38;5;28mgetattr\u001B[39m(\u001B[38;5;28mself\u001B[39m, \u001B[38;5;124m\"\u001B[39m\u001B[38;5;124mverbose\u001B[39m\u001B[38;5;124m\"\u001B[39m, \u001B[38;5;28;01mFalse\u001B[39;00m):\n\u001B[0;32m    250\u001B[0m     \u001B[38;5;28mprint\u001B[39m(\u001B[38;5;124m\"\u001B[39m\u001B[38;5;124mDone computing similarity matrix.\u001B[39m\u001B[38;5;124m\"\u001B[39m)\n",
      "File \u001B[1;32m~\\AppData\\Local\\Packages\\PythonSoftwareFoundation.Python.3.10_qbz5n2kfra8p0\\LocalCache\\local-packages\\Python310\\site-packages\\surprise\\similarities.pyx:58\u001B[0m, in \u001B[0;36msurprise.similarities.cosine\u001B[1;34m()\u001B[0m\n",
      "\u001B[1;31mMemoryError\u001B[0m: Unable to allocate 5.54 GiB for an array with shape (27278, 27278) and data type float64"
     ]
    }
   ],
   "execution_count": 11
  },
  {
   "cell_type": "code",
   "execution_count": 29,
   "metadata": {},
   "outputs": [
    {
     "name": "stdout",
     "output_type": "stream",
     "text": [
      "Computing the cosine similarity matrix...\n"
     ]
    },
    {
     "ename": "MemoryError",
     "evalue": "Unable to allocate 5.67 GiB for an array with shape (27582, 27582) and data type float64",
     "output_type": "error",
     "traceback": [
      "\u001B[0;31m---------------------------------------------------------------------------\u001B[0m",
      "\u001B[0;31mMemoryError\u001B[0m                               Traceback (most recent call last)",
      "\u001B[0;32m<ipython-input-29-8be290650096>\u001B[0m in \u001B[0;36m<module>\u001B[0;34m\u001B[0m\n\u001B[1;32m     10\u001B[0m \u001B[0;34m\u001B[0m\u001B[0m\n\u001B[1;32m     11\u001B[0m     \u001B[0;31m# Ajustar el modelo y hacer predicciones\u001B[0m\u001B[0;34m\u001B[0m\u001B[0;34m\u001B[0m\u001B[0;34m\u001B[0m\u001B[0m\n\u001B[0;32m---> 12\u001B[0;31m     \u001B[0mmodel\u001B[0m\u001B[0;34m.\u001B[0m\u001B[0mfit\u001B[0m\u001B[0;34m(\u001B[0m\u001B[0mtrainset\u001B[0m\u001B[0;34m)\u001B[0m\u001B[0;34m\u001B[0m\u001B[0;34m\u001B[0m\u001B[0m\n\u001B[0m\u001B[1;32m     13\u001B[0m     \u001B[0mpredictions\u001B[0m \u001B[0;34m=\u001B[0m \u001B[0mmodel\u001B[0m\u001B[0;34m.\u001B[0m\u001B[0mtest\u001B[0m\u001B[0;34m(\u001B[0m\u001B[0mtestset\u001B[0m\u001B[0;34m)\u001B[0m\u001B[0;34m\u001B[0m\u001B[0;34m\u001B[0m\u001B[0m\n\u001B[1;32m     14\u001B[0m \u001B[0;34m\u001B[0m\u001B[0m\n",
      "\u001B[0;32m~/.local/lib/python3.8/site-packages/surprise/prediction_algorithms/knns.py\u001B[0m in \u001B[0;36mfit\u001B[0;34m(self, trainset)\u001B[0m\n\u001B[1;32m     96\u001B[0m \u001B[0;34m\u001B[0m\u001B[0m\n\u001B[1;32m     97\u001B[0m         \u001B[0mSymmetricAlgo\u001B[0m\u001B[0;34m.\u001B[0m\u001B[0mfit\u001B[0m\u001B[0;34m(\u001B[0m\u001B[0mself\u001B[0m\u001B[0;34m,\u001B[0m \u001B[0mtrainset\u001B[0m\u001B[0;34m)\u001B[0m\u001B[0;34m\u001B[0m\u001B[0;34m\u001B[0m\u001B[0m\n\u001B[0;32m---> 98\u001B[0;31m         \u001B[0mself\u001B[0m\u001B[0;34m.\u001B[0m\u001B[0msim\u001B[0m \u001B[0;34m=\u001B[0m \u001B[0mself\u001B[0m\u001B[0;34m.\u001B[0m\u001B[0mcompute_similarities\u001B[0m\u001B[0;34m(\u001B[0m\u001B[0;34m)\u001B[0m\u001B[0;34m\u001B[0m\u001B[0;34m\u001B[0m\u001B[0m\n\u001B[0m\u001B[1;32m     99\u001B[0m \u001B[0;34m\u001B[0m\u001B[0m\n\u001B[1;32m    100\u001B[0m         \u001B[0;32mreturn\u001B[0m \u001B[0mself\u001B[0m\u001B[0;34m\u001B[0m\u001B[0;34m\u001B[0m\u001B[0m\n",
      "\u001B[0;32m~/.local/lib/python3.8/site-packages/surprise/prediction_algorithms/algo_base.py\u001B[0m in \u001B[0;36mcompute_similarities\u001B[0;34m(self)\u001B[0m\n\u001B[1;32m    246\u001B[0m             \u001B[0;32mif\u001B[0m \u001B[0mgetattr\u001B[0m\u001B[0;34m(\u001B[0m\u001B[0mself\u001B[0m\u001B[0;34m,\u001B[0m \u001B[0;34m\"verbose\"\u001B[0m\u001B[0;34m,\u001B[0m \u001B[0;32mFalse\u001B[0m\u001B[0;34m)\u001B[0m\u001B[0;34m:\u001B[0m\u001B[0;34m\u001B[0m\u001B[0;34m\u001B[0m\u001B[0m\n\u001B[1;32m    247\u001B[0m                 \u001B[0mprint\u001B[0m\u001B[0;34m(\u001B[0m\u001B[0;34mf\"Computing the {name} similarity matrix...\"\u001B[0m\u001B[0;34m)\u001B[0m\u001B[0;34m\u001B[0m\u001B[0;34m\u001B[0m\u001B[0m\n\u001B[0;32m--> 248\u001B[0;31m             \u001B[0msim\u001B[0m \u001B[0;34m=\u001B[0m \u001B[0mconstruction_func\u001B[0m\u001B[0;34m[\u001B[0m\u001B[0mname\u001B[0m\u001B[0;34m]\u001B[0m\u001B[0;34m(\u001B[0m\u001B[0;34m*\u001B[0m\u001B[0margs\u001B[0m\u001B[0;34m)\u001B[0m\u001B[0;34m\u001B[0m\u001B[0;34m\u001B[0m\u001B[0m\n\u001B[0m\u001B[1;32m    249\u001B[0m             \u001B[0;32mif\u001B[0m \u001B[0mgetattr\u001B[0m\u001B[0;34m(\u001B[0m\u001B[0mself\u001B[0m\u001B[0;34m,\u001B[0m \u001B[0;34m\"verbose\"\u001B[0m\u001B[0;34m,\u001B[0m \u001B[0;32mFalse\u001B[0m\u001B[0;34m)\u001B[0m\u001B[0;34m:\u001B[0m\u001B[0;34m\u001B[0m\u001B[0;34m\u001B[0m\u001B[0m\n\u001B[1;32m    250\u001B[0m                 \u001B[0mprint\u001B[0m\u001B[0;34m(\u001B[0m\u001B[0;34m\"Done computing similarity matrix.\"\u001B[0m\u001B[0;34m)\u001B[0m\u001B[0;34m\u001B[0m\u001B[0;34m\u001B[0m\u001B[0m\n",
      "\u001B[0;32m~/.local/lib/python3.8/site-packages/surprise/similarities.pyx\u001B[0m in \u001B[0;36msurprise.similarities.cosine\u001B[0;34m()\u001B[0m\n",
      "\u001B[0;31mMemoryError\u001B[0m: Unable to allocate 5.67 GiB for an array with shape (27582, 27582) and data type float64"
     ]
    }
   ],
   "source": [
    "k_values = list(range(1, 51))  # Valores de K de 1 a 50\n",
    "rmse_values = []\n",
    "mae_values = []\n",
    "\n",
    "# Probar diferentes valores de K\n",
    "for k in k_values:\n",
    "    # Configuración del modelo KNN con el valor de K actual\n",
    "    sim_options = {'name': 'cosine', 'user_based': False}\n",
    "    model = KNNBasic(k=k, sim_options=sim_options)\n",
    "    \n",
    "    # Ajustar el modelo y hacer predicciones\n",
    "    model.fit(trainset)\n",
    "    predictions = model.test(testset)\n",
    "    \n",
    "    # Calcular RMSE y MAE\n",
    "    rmse = accuracy.rmse(predictions)\n",
    "    mae = accuracy.mae(predictions)\n",
    "    \n",
    "    # Guardar los resultados\n",
    "    rmse_values.append(rmse)\n",
    "    mae_values.append(mae)\n",
    "\n",
    "# Graficar RMSE y MAE\n",
    "plt.figure(figsize=(14, 6))\n",
    "\n",
    "# RMSE\n",
    "plt.subplot(1, 2, 1)\n",
    "plt.plot(k_values, rmse_values, label='RMSE', color='blue', marker='o')\n",
    "plt.title('Item-Item dist cosinus: Evolución de RMSE con K')\n",
    "plt.xlabel('K (Número de Vecinos)')\n",
    "plt.ylabel('RMSE')\n",
    "plt.grid(True)\n",
    "\n",
    "# MAE\n",
    "plt.subplot(1, 2, 2)\n",
    "plt.plot(k_values, mae_values, label='MAE', color='green', marker='o')\n",
    "plt.title('Item-Item dist cosinus: Evolución de MAE con K')\n",
    "plt.xlabel('K (Número de Vecinos)')\n",
    "plt.ylabel('MAE')\n",
    "plt.grid(True)\n",
    "\n",
    "plt.tight_layout()\n",
    "plt.show()"
   ]
  },
  {
   "cell_type": "code",
   "execution_count": null,
   "metadata": {},
   "outputs": [],
   "source": [
    "k_values = list(range(1, 25))  # Valores de K de 1 a 50\n",
    "rmse_values = []\n",
    "mae_values = []\n",
    "\n",
    "# Probar diferentes valores de K\n",
    "for k in k_values:\n",
    "    # Configuración del modelo KNN con el valor de K actual\n",
    "    sim_options = {'name': 'pearson', 'user_based': False}\n",
    "    model = KNNBasic(k=k, sim_options=sim_options)\n",
    "    \n",
    "    # Ajustar el modelo y hacer predicciones\n",
    "    model.fit(trainset)\n",
    "    predictions = model.test(testset)\n",
    "    \n",
    "    # Calcular RMSE y MAE\n",
    "    rmse = accuracy.rmse(predictions)\n",
    "    mae = accuracy.mae(predictions)\n",
    "    \n",
    "    # Guardar los resultados\n",
    "    rmse_values.append(rmse)\n",
    "    mae_values.append(mae)\n",
    "\n",
    "# Graficar RMSE y MAE\n",
    "plt.figure(figsize=(14, 6))\n",
    "\n",
    "# RMSE\n",
    "plt.subplot(1, 2, 1)\n",
    "plt.plot(k_values, rmse_values, label='RMSE', color='blue', marker='o')\n",
    "plt.title('Item-Item dist pearson: Evolució de RMSE amb K')\n",
    "plt.xlabel('K (Número de Vecinos)')\n",
    "plt.ylabel('RMSE')\n",
    "plt.grid(True)\n",
    "\n",
    "# MAE\n",
    "plt.subplot(1, 2, 2)\n",
    "plt.plot(k_values, mae_values, label='MAE', color='green', marker='o')\n",
    "plt.title('Item-Item dist pearson: Evolució de MAE amb K')\n",
    "plt.xlabel('K (Número de Vecinos)')\n",
    "plt.ylabel('MAE')\n",
    "plt.grid(True)\n",
    "\n",
    "plt.tight_layout()\n",
    "plt.show()"
   ]
  },
  {
   "cell_type": "code",
   "execution_count": null,
   "metadata": {},
   "outputs": [],
   "source": [
    "k_values = list(range(1, 25))  # Valores de K de 1 a 50\n",
    "rmse_values = []\n",
    "mae_values = []\n",
    "\n",
    "# Probar diferentes valores de K\n",
    "for k in k_values:\n",
    "    # Configuración del modelo KNN con el valor de K actual\n",
    "    sim_options = {'name': 'cosine', 'user_based': True}\n",
    "    model = KNNBasic(k=k, sim_options=sim_options)\n",
    "    \n",
    "    # Ajustar el modelo y hacer predicciones\n",
    "    model.fit(trainset)\n",
    "    predictions = model.test(testset)\n",
    "    \n",
    "    # Calcular RMSE y MAE\n",
    "    rmse = accuracy.rmse(predictions)\n",
    "    mae = accuracy.mae(predictions)\n",
    "    \n",
    "    # Guardar los resultados\n",
    "    rmse_values.append(rmse)\n",
    "    mae_values.append(mae)\n",
    "\n",
    "# Graficar RMSE y MAE\n",
    "plt.figure(figsize=(14, 6))\n",
    "\n",
    "# RMSE\n",
    "plt.subplot(1, 2, 1)\n",
    "plt.plot(k_values, rmse_values, label='RMSE', color='blue', marker='o')\n",
    "plt.title('User-User dist cosinus: Evolució de RMSE amb K')\n",
    "plt.xlabel('K (Número de Vecinos)')\n",
    "plt.ylabel('RMSE')\n",
    "plt.grid(True)\n",
    "\n",
    "# MAE\n",
    "plt.subplot(1, 2, 2)\n",
    "plt.plot(k_values, mae_values, label='MAE', color='green', marker='o')\n",
    "plt.title('User-User dist cosinus: Evolución de MAE amb K')\n",
    "plt.xlabel('K (Número de Vecinos)')\n",
    "plt.ylabel('MAE')\n",
    "plt.grid(True)\n",
    "\n",
    "plt.tight_layout()\n",
    "plt.show()"
   ]
  },
  {
   "cell_type": "code",
   "execution_count": null,
   "metadata": {},
   "outputs": [],
   "source": [
    "k_values = list(range(1, 25))  # Valores de K de 1 a 50\n",
    "rmse_values = []\n",
    "mae_values = []\n",
    "\n",
    "# Probar diferentes valores de K\n",
    "for k in k_values:\n",
    "    # Configuración del modelo KNN con el valor de K actual\n",
    "    sim_options = {'name': 'pearson', 'user_based': True}\n",
    "    model = KNNBasic(k=k, sim_options=sim_options)\n",
    "    \n",
    "    # Ajustar el modelo y hacer predicciones\n",
    "    model.fit(trainset)\n",
    "    predictions = model.test(testset)\n",
    "    \n",
    "    # Calcular RMSE y MAE\n",
    "    rmse = accuracy.rmse(predictions)\n",
    "    mae = accuracy.mae(predictions)\n",
    "    \n",
    "    # Guardar los resultados\n",
    "    rmse_values.append(rmse)\n",
    "    mae_values.append(mae)\n",
    "\n",
    "# Graficar RMSE y MAE\n",
    "plt.figure(figsize=(14, 6))\n",
    "\n",
    "# RMSE\n",
    "plt.subplot(1, 2, 1)\n",
    "plt.plot(k_values, rmse_values, label='RMSE', color='blue', marker='o')\n",
    "plt.title('User-User dist pearson: Evolució de RMSE amb K')\n",
    "plt.xlabel('K (Número de Vecinos)')\n",
    "plt.ylabel('RMSE')\n",
    "plt.grid(True)\n",
    "\n",
    "# MAE\n",
    "plt.subplot(1, 2, 2)\n",
    "plt.plot(k_values, mae_values, label='MAE', color='green', marker='o')\n",
    "plt.title('User-User dist pearson: Evolució de MAE amb K')\n",
    "plt.xlabel('K (Número de Vecinos)')\n",
    "plt.ylabel('MAE')\n",
    "plt.grid(True)\n",
    "\n",
    "plt.tight_layout()\n",
    "plt.show()"
   ]
  },
  {
   "cell_type": "code",
   "execution_count": null,
   "metadata": {},
   "outputs": [],
   "source": [
    "# Evaluar el RMSE en las predicciones del testset\n",
    "rmse_c_u = accuracy.rmse(predictions_cosinus_user)\n",
    "print(f'RMSE en el testset: {rmse}')\n",
    "\n",
    "# Evaluar el MAE en las predicciones del testset\n",
    "mae_c_u = accuracy.mae(predictions_cosinus_user)\n",
    "print(f'MAE en el testset: {mae}')\n",
    "\n",
    "# Evaluar el RMSE en las predicciones del testset\n",
    "rmse_c_i = accuracy.rmse(predictions_cosinus_user_item)\n",
    "print(f'RMSE en el testset: {rmse}')\n",
    "\n",
    "# Evaluar el MAE en las predicciones del testset\n",
    "mae_c_i = accuracy.mae(predictions_cosinus_user_item)\n",
    "print(f'MAE en el testset: {mae}')\n",
    "\n",
    "##Visualización cosinus cual es mejor si item-item o user-user\n",
    "import matplotlib.pyplot as plt\n",
    "\n",
    "# Datos simulados de las métricas\n",
    "models = ['User-User', 'Item-Item']\n",
    "rmse_values = [rmse_c_u, rmse_c_i]  # RMSE para User-User y Item-Item\n",
    "mae_values = [mae_c_u, mae_c_i]   # MAE para User-User y Item-Item\n",
    "\n",
    "# Gráfico 1: Comparación de RMSE\n",
    "plt.figure(figsize=(12, 5))\n",
    "plt.subplot(1, 2, 1)\n",
    "plt.bar(models, rmse_values, color=['blue', 'green'])\n",
    "plt.title('Comparació de RMSE entre User-User y Item-Item', fontsize=14)\n",
    "plt.ylabel('RMSE', fontsize=12)\n",
    "plt.ylim(0, 1.25)\n",
    "plt.grid(axis='y', linestyle='--', alpha=0.7)\n",
    "\n",
    "# Gráfico 2: Comparación de MAE\n",
    "plt.subplot(1, 2, 2)\n",
    "plt.bar(models, mae_values, color=['blue', 'green'])\n",
    "plt.title('Comparació de MAE entre User-User y Item-Item', fontsize=14)\n",
    "plt.ylabel('MAE', fontsize=12)\n",
    "plt.ylim(0, 1)\n",
    "plt.grid(axis='y', linestyle='--', alpha=0.7)\n",
    "\n",
    "# Mostrar los gráficos\n",
    "plt.tight_layout()\n",
    "plt.show()"
   ]
  },
  {
   "cell_type": "code",
   "execution_count": null,
   "metadata": {},
   "outputs": [],
   "source": [
    "rmse_c_u = accuracy.rmse(predictions_cosinus_user)\n",
    "mae_c_u = accuracy.mae(predictions_cosinus_user)\n",
    "\n",
    "rmse_c_i = accuracy.rmse(predictions_cosinus_user_item)\n",
    "mae_c_i = accuracy.mae(predictions_cosinus_user_item)\n",
    "\n",
    "rmse_svd = accuracy.rmse(pred)\n",
    "mae_svd = accuracy.mae(pred)\n",
    "\n",
    "# Visualització de RMSE i MAE\n",
    "models = ['User-User', 'Item-Item', 'SVD']\n",
    "rmse_values = [rmse_c_u, rmse_c_i, rmse_svd]\n",
    "mae_values = [mae_c_u, mae_c_i, mae_svd]\n",
    "\n",
    "plt.figure(figsize=(12, 5))\n",
    "\n",
    "# Gràfica de RMSE\n",
    "plt.subplot(1, 2, 1)\n",
    "plt.bar(models, rmse_values, color=['blue', 'green', 'red'])\n",
    "plt.title('Comparació de RMSE entre models', fontsize=14)\n",
    "plt.ylabel('RMSE', fontsize=12)\n",
    "plt.grid(axis='y', linestyle='--', alpha=0.7)\n",
    "\n",
    "# Gràfica de MAE\n",
    "plt.subplot(1, 2, 2)\n",
    "plt.bar(models, mae_values, color=['blue', 'green', 'red'])\n",
    "plt.title('Comparació de MAE entre models', fontsize=14)\n",
    "plt.ylabel('MAE', fontsize=12)\n",
    "plt.grid(axis='y', linestyle='--', alpha=0.7)\n",
    "\n",
    "plt.tight_layout()\n",
    "plt.show()\n",
    "\n",
    "# Gràfica de temps d'execució\n",
    "execution_times = [execution_time_c_u, execution_time_c_i, execution_time_svd]\n",
    "plt.figure(figsize=(6, 5))\n",
    "plt.bar(models, execution_times, color=['blue', 'green', 'red'])\n",
    "plt.title('Temps d\\'Execució entre Models', fontsize=14)\n",
    "plt.ylabel('Temps (segons)', fontsize=12)\n",
    "plt.grid(axis='y', linestyle='--', alpha=0.7)\n",
    "plt.tight_layout()\n",
    "plt.show()"
   ]
  }
 ],
 "metadata": {
  "kernelspec": {
   "display_name": "Python 3",
   "language": "python",
   "name": "python3"
  },
  "language_info": {
   "codemirror_mode": {
    "name": "ipython",
    "version": 3
   },
   "file_extension": ".py",
   "mimetype": "text/x-python",
   "name": "python",
   "nbconvert_exporter": "python",
   "pygments_lexer": "ipython3",
   "version": "3.8.10"
  }
 },
 "nbformat": 4,
 "nbformat_minor": 4
}
